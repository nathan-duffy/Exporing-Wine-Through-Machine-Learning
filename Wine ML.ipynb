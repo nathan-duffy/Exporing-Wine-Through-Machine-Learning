{
 "cells": [
  {
   "cell_type": "markdown",
   "metadata": {},
   "source": [
    "# Exploring Wine through Machine Learning"
   ]
  },
  {
   "cell_type": "code",
   "execution_count": 2,
   "metadata": {},
   "outputs": [],
   "source": [
    "import pandas as pd\n",
    "import numpy as np\n",
    "import matplotlib.pyplot as plt\n",
    "import seaborn as sns\n",
    "import warnings\n",
    "from sklearn import linear_model\n",
    "from sklearn.feature_extraction.text import TfidfVectorizer , CountVectorizer\n",
    "from sklearn.model_selection import train_test_split, cross_val_score\n",
    "from sklearn.metrics import accuracy_score\n",
    "from nltk.corpus import stopwords\n",
    "from sklearn.metrics import confusion_matrix\n",
    "from sklearn.cluster import KMeans\n",
    "from sklearn.ensemble import RandomForestClassifier\n",
    "warnings.filterwarnings(\"ignore\", category=DeprecationWarning) \n",
    "%matplotlib inline\n",
    "sns.set()"
   ]
  },
  {
   "cell_type": "markdown",
   "metadata": {},
   "source": [
    "**Loading in our first dataset**"
   ]
  },
  {
   "cell_type": "code",
   "execution_count": 2,
   "metadata": {},
   "outputs": [],
   "source": [
    "firstdata = pd.read_csv('../Project/winemag-data_first150k.csv')"
   ]
  },
  {
   "cell_type": "code",
   "execution_count": 3,
   "metadata": {},
   "outputs": [
    {
     "data": {
      "text/plain": [
       "150930"
      ]
     },
     "execution_count": 3,
     "metadata": {},
     "output_type": "execute_result"
    }
   ],
   "source": [
    "len(firstdata)"
   ]
  },
  {
   "cell_type": "markdown",
   "metadata": {},
   "source": [
    "**Loading in the second dataset**"
   ]
  },
  {
   "cell_type": "code",
   "execution_count": 4,
   "metadata": {},
   "outputs": [],
   "source": [
    "seconddata = pd.read_csv('../Project/winemag-data-130k-v2.csv')"
   ]
  },
  {
   "cell_type": "code",
   "execution_count": 5,
   "metadata": {},
   "outputs": [
    {
     "data": {
      "text/plain": [
       "129971"
      ]
     },
     "execution_count": 5,
     "metadata": {},
     "output_type": "execute_result"
    }
   ],
   "source": [
    "len(seconddata)"
   ]
  },
  {
   "cell_type": "markdown",
   "metadata": {},
   "source": [
    "**Merging both datasets together to create one large CSV with all our values**"
   ]
  },
  {
   "cell_type": "code",
   "execution_count": 6,
   "metadata": {},
   "outputs": [
    {
     "data": {
      "text/html": [
       "<div>\n",
       "<style scoped>\n",
       "    .dataframe tbody tr th:only-of-type {\n",
       "        vertical-align: middle;\n",
       "    }\n",
       "\n",
       "    .dataframe tbody tr th {\n",
       "        vertical-align: top;\n",
       "    }\n",
       "\n",
       "    .dataframe thead th {\n",
       "        text-align: right;\n",
       "    }\n",
       "</style>\n",
       "<table border=\"1\" class=\"dataframe\">\n",
       "  <thead>\n",
       "    <tr style=\"text-align: right;\">\n",
       "      <th></th>\n",
       "      <th>Unnamed: 0</th>\n",
       "      <th>country</th>\n",
       "      <th>description</th>\n",
       "      <th>designation</th>\n",
       "      <th>points</th>\n",
       "      <th>price</th>\n",
       "      <th>province</th>\n",
       "      <th>region_1</th>\n",
       "      <th>region_2</th>\n",
       "      <th>variety</th>\n",
       "      <th>winery</th>\n",
       "      <th>taster_name</th>\n",
       "      <th>taster_twitter_handle</th>\n",
       "      <th>title</th>\n",
       "    </tr>\n",
       "  </thead>\n",
       "  <tbody>\n",
       "    <tr>\n",
       "      <th>0</th>\n",
       "      <td>0</td>\n",
       "      <td>US</td>\n",
       "      <td>This tremendous 100% varietal wine hails from ...</td>\n",
       "      <td>Martha's Vineyard</td>\n",
       "      <td>96</td>\n",
       "      <td>235.0</td>\n",
       "      <td>California</td>\n",
       "      <td>Napa Valley</td>\n",
       "      <td>Napa</td>\n",
       "      <td>Cabernet Sauvignon</td>\n",
       "      <td>Heitz</td>\n",
       "      <td>NaN</td>\n",
       "      <td>NaN</td>\n",
       "      <td>NaN</td>\n",
       "    </tr>\n",
       "    <tr>\n",
       "      <th>1</th>\n",
       "      <td>1</td>\n",
       "      <td>Spain</td>\n",
       "      <td>Ripe aromas of fig, blackberry and cassis are ...</td>\n",
       "      <td>Carodorum Selección Especial Reserva</td>\n",
       "      <td>96</td>\n",
       "      <td>110.0</td>\n",
       "      <td>Northern Spain</td>\n",
       "      <td>Toro</td>\n",
       "      <td>NaN</td>\n",
       "      <td>Tinta de Toro</td>\n",
       "      <td>Bodega Carmen Rodríguez</td>\n",
       "      <td>NaN</td>\n",
       "      <td>NaN</td>\n",
       "      <td>NaN</td>\n",
       "    </tr>\n",
       "    <tr>\n",
       "      <th>2</th>\n",
       "      <td>2</td>\n",
       "      <td>US</td>\n",
       "      <td>Mac Watson honors the memory of a wine once ma...</td>\n",
       "      <td>Special Selected Late Harvest</td>\n",
       "      <td>96</td>\n",
       "      <td>90.0</td>\n",
       "      <td>California</td>\n",
       "      <td>Knights Valley</td>\n",
       "      <td>Sonoma</td>\n",
       "      <td>Sauvignon Blanc</td>\n",
       "      <td>Macauley</td>\n",
       "      <td>NaN</td>\n",
       "      <td>NaN</td>\n",
       "      <td>NaN</td>\n",
       "    </tr>\n",
       "    <tr>\n",
       "      <th>3</th>\n",
       "      <td>3</td>\n",
       "      <td>US</td>\n",
       "      <td>This spent 20 months in 30% new French oak, an...</td>\n",
       "      <td>Reserve</td>\n",
       "      <td>96</td>\n",
       "      <td>65.0</td>\n",
       "      <td>Oregon</td>\n",
       "      <td>Willamette Valley</td>\n",
       "      <td>Willamette Valley</td>\n",
       "      <td>Pinot Noir</td>\n",
       "      <td>Ponzi</td>\n",
       "      <td>NaN</td>\n",
       "      <td>NaN</td>\n",
       "      <td>NaN</td>\n",
       "    </tr>\n",
       "    <tr>\n",
       "      <th>4</th>\n",
       "      <td>4</td>\n",
       "      <td>France</td>\n",
       "      <td>This is the top wine from La Bégude, named aft...</td>\n",
       "      <td>La Brûlade</td>\n",
       "      <td>95</td>\n",
       "      <td>66.0</td>\n",
       "      <td>Provence</td>\n",
       "      <td>Bandol</td>\n",
       "      <td>NaN</td>\n",
       "      <td>Provence red blend</td>\n",
       "      <td>Domaine de la Bégude</td>\n",
       "      <td>NaN</td>\n",
       "      <td>NaN</td>\n",
       "      <td>NaN</td>\n",
       "    </tr>\n",
       "  </tbody>\n",
       "</table>\n",
       "</div>"
      ],
      "text/plain": [
       "   Unnamed: 0 country                                        description  \\\n",
       "0           0      US  This tremendous 100% varietal wine hails from ...   \n",
       "1           1   Spain  Ripe aromas of fig, blackberry and cassis are ...   \n",
       "2           2      US  Mac Watson honors the memory of a wine once ma...   \n",
       "3           3      US  This spent 20 months in 30% new French oak, an...   \n",
       "4           4  France  This is the top wine from La Bégude, named aft...   \n",
       "\n",
       "                            designation  points  price        province  \\\n",
       "0                     Martha's Vineyard      96  235.0      California   \n",
       "1  Carodorum Selección Especial Reserva      96  110.0  Northern Spain   \n",
       "2         Special Selected Late Harvest      96   90.0      California   \n",
       "3                               Reserve      96   65.0          Oregon   \n",
       "4                            La Brûlade      95   66.0        Provence   \n",
       "\n",
       "            region_1           region_2             variety  \\\n",
       "0        Napa Valley               Napa  Cabernet Sauvignon   \n",
       "1               Toro                NaN       Tinta de Toro   \n",
       "2     Knights Valley             Sonoma     Sauvignon Blanc   \n",
       "3  Willamette Valley  Willamette Valley          Pinot Noir   \n",
       "4             Bandol                NaN  Provence red blend   \n",
       "\n",
       "                    winery taster_name taster_twitter_handle title  \n",
       "0                    Heitz         NaN                   NaN   NaN  \n",
       "1  Bodega Carmen Rodríguez         NaN                   NaN   NaN  \n",
       "2                 Macauley         NaN                   NaN   NaN  \n",
       "3                    Ponzi         NaN                   NaN   NaN  \n",
       "4     Domaine de la Bégude         NaN                   NaN   NaN  "
      ]
     },
     "execution_count": 6,
     "metadata": {},
     "output_type": "execute_result"
    }
   ],
   "source": [
    "data = pd.merge(firstdata, seconddata, how=\"outer\")\n",
    "data.head()"
   ]
  },
  {
   "cell_type": "code",
   "execution_count": 7,
   "metadata": {},
   "outputs": [
    {
     "data": {
      "text/plain": [
       "280900"
      ]
     },
     "execution_count": 7,
     "metadata": {},
     "output_type": "execute_result"
    }
   ],
   "source": [
    "len(data)"
   ]
  },
  {
   "cell_type": "markdown",
   "metadata": {},
   "source": [
    "**Seeing if there are any duplicate descriptions.**"
   ]
  },
  {
   "cell_type": "code",
   "execution_count": 8,
   "metadata": {},
   "outputs": [
    {
     "data": {
      "text/html": [
       "<div>\n",
       "<style scoped>\n",
       "    .dataframe tbody tr th:only-of-type {\n",
       "        vertical-align: middle;\n",
       "    }\n",
       "\n",
       "    .dataframe tbody tr th {\n",
       "        vertical-align: top;\n",
       "    }\n",
       "\n",
       "    .dataframe thead th {\n",
       "        text-align: right;\n",
       "    }\n",
       "</style>\n",
       "<table border=\"1\" class=\"dataframe\">\n",
       "  <thead>\n",
       "    <tr style=\"text-align: right;\">\n",
       "      <th></th>\n",
       "      <th>Unnamed: 0</th>\n",
       "      <th>country</th>\n",
       "      <th>description</th>\n",
       "      <th>designation</th>\n",
       "      <th>points</th>\n",
       "      <th>price</th>\n",
       "      <th>province</th>\n",
       "      <th>region_1</th>\n",
       "      <th>region_2</th>\n",
       "      <th>variety</th>\n",
       "      <th>winery</th>\n",
       "      <th>taster_name</th>\n",
       "      <th>taster_twitter_handle</th>\n",
       "      <th>title</th>\n",
       "    </tr>\n",
       "  </thead>\n",
       "  <tbody>\n",
       "    <tr>\n",
       "      <th>245284</th>\n",
       "      <td>94355</td>\n",
       "      <td>Austria</td>\n",
       "      <td>\"Chremisa,\" the ancient name of Krems, is comm...</td>\n",
       "      <td>Edition Chremisa Sandgrube 13</td>\n",
       "      <td>85</td>\n",
       "      <td>24.0</td>\n",
       "      <td>Niederösterreich</td>\n",
       "      <td>NaN</td>\n",
       "      <td>NaN</td>\n",
       "      <td>Grüner Veltliner</td>\n",
       "      <td>Winzer Krems</td>\n",
       "      <td>Roger Voss</td>\n",
       "      <td>@vossroger</td>\n",
       "      <td>Winzer Krems 2011 Edition Chremisa Sandgrube 1...</td>\n",
       "    </tr>\n",
       "    <tr>\n",
       "      <th>96052</th>\n",
       "      <td>96052</td>\n",
       "      <td>Austria</td>\n",
       "      <td>\"Chremisa,\" the ancient name of Krems, is comm...</td>\n",
       "      <td>Edition Chremisa Sandgrube 13</td>\n",
       "      <td>85</td>\n",
       "      <td>24.0</td>\n",
       "      <td>Niederösterreich</td>\n",
       "      <td>NaN</td>\n",
       "      <td>NaN</td>\n",
       "      <td>Grüner Veltliner</td>\n",
       "      <td>Winzer Krems</td>\n",
       "      <td>NaN</td>\n",
       "      <td>NaN</td>\n",
       "      <td>NaN</td>\n",
       "    </tr>\n",
       "    <tr>\n",
       "      <th>277812</th>\n",
       "      <td>126883</td>\n",
       "      <td>US</td>\n",
       "      <td>$10 for this very drinkable Cab? That's crazy....</td>\n",
       "      <td>NaN</td>\n",
       "      <td>87</td>\n",
       "      <td>10.0</td>\n",
       "      <td>California</td>\n",
       "      <td>North Coast</td>\n",
       "      <td>North Coast</td>\n",
       "      <td>Cabernet Sauvignon</td>\n",
       "      <td>Line 39</td>\n",
       "      <td>Virginie Boone</td>\n",
       "      <td>@vboone</td>\n",
       "      <td>Line 39 2009 Cabernet Sauvignon (North Coast)</td>\n",
       "    </tr>\n",
       "    <tr>\n",
       "      <th>83019</th>\n",
       "      <td>83019</td>\n",
       "      <td>US</td>\n",
       "      <td>$10 for this very drinkable Cab? That's crazy....</td>\n",
       "      <td>NaN</td>\n",
       "      <td>87</td>\n",
       "      <td>10.0</td>\n",
       "      <td>California</td>\n",
       "      <td>North Coast</td>\n",
       "      <td>North Coast</td>\n",
       "      <td>Cabernet Sauvignon</td>\n",
       "      <td>Line 39</td>\n",
       "      <td>NaN</td>\n",
       "      <td>NaN</td>\n",
       "      <td>NaN</td>\n",
       "    </tr>\n",
       "    <tr>\n",
       "      <th>147725</th>\n",
       "      <td>147725</td>\n",
       "      <td>Chile</td>\n",
       "      <td>$11. Opens with a highly perfumed bouquet of l...</td>\n",
       "      <td>Estate Reserve</td>\n",
       "      <td>84</td>\n",
       "      <td>11.0</td>\n",
       "      <td>Maipo Valley</td>\n",
       "      <td>NaN</td>\n",
       "      <td>NaN</td>\n",
       "      <td>Chardonnay</td>\n",
       "      <td>La Playa</td>\n",
       "      <td>NaN</td>\n",
       "      <td>NaN</td>\n",
       "      <td>NaN</td>\n",
       "    </tr>\n",
       "  </tbody>\n",
       "</table>\n",
       "</div>"
      ],
      "text/plain": [
       "        Unnamed: 0  country  \\\n",
       "245284       94355  Austria   \n",
       "96052        96052  Austria   \n",
       "277812      126883       US   \n",
       "83019        83019       US   \n",
       "147725      147725    Chile   \n",
       "\n",
       "                                              description  \\\n",
       "245284  \"Chremisa,\" the ancient name of Krems, is comm...   \n",
       "96052   \"Chremisa,\" the ancient name of Krems, is comm...   \n",
       "277812  $10 for this very drinkable Cab? That's crazy....   \n",
       "83019   $10 for this very drinkable Cab? That's crazy....   \n",
       "147725  $11. Opens with a highly perfumed bouquet of l...   \n",
       "\n",
       "                          designation  points  price          province  \\\n",
       "245284  Edition Chremisa Sandgrube 13      85   24.0  Niederösterreich   \n",
       "96052   Edition Chremisa Sandgrube 13      85   24.0  Niederösterreich   \n",
       "277812                            NaN      87   10.0        California   \n",
       "83019                             NaN      87   10.0        California   \n",
       "147725                 Estate Reserve      84   11.0      Maipo Valley   \n",
       "\n",
       "           region_1     region_2             variety        winery  \\\n",
       "245284          NaN          NaN    Grüner Veltliner  Winzer Krems   \n",
       "96052           NaN          NaN    Grüner Veltliner  Winzer Krems   \n",
       "277812  North Coast  North Coast  Cabernet Sauvignon       Line 39   \n",
       "83019   North Coast  North Coast  Cabernet Sauvignon       Line 39   \n",
       "147725          NaN          NaN          Chardonnay      La Playa   \n",
       "\n",
       "           taster_name taster_twitter_handle  \\\n",
       "245284      Roger Voss            @vossroger   \n",
       "96052              NaN                   NaN   \n",
       "277812  Virginie Boone               @vboone   \n",
       "83019              NaN                   NaN   \n",
       "147725             NaN                   NaN   \n",
       "\n",
       "                                                    title  \n",
       "245284  Winzer Krems 2011 Edition Chremisa Sandgrube 1...  \n",
       "96052                                                 NaN  \n",
       "277812      Line 39 2009 Cabernet Sauvignon (North Coast)  \n",
       "83019                                                 NaN  \n",
       "147725                                                NaN  "
      ]
     },
     "execution_count": 8,
     "metadata": {},
     "output_type": "execute_result"
    }
   ],
   "source": [
    "data[data.duplicated('description',keep=False)].sort_values('description').head(5)"
   ]
  },
  {
   "cell_type": "markdown",
   "metadata": {},
   "source": [
    "**First we drop any instances of duplicate descriptions.  Second, we remove the instances where the price data is incomplete.  Third, we remove the generic blends that are prominent in the dataset.**"
   ]
  },
  {
   "cell_type": "code",
   "execution_count": 9,
   "metadata": {},
   "outputs": [
    {
     "data": {
      "text/plain": [
       "(136033, 14)"
      ]
     },
     "execution_count": 9,
     "metadata": {},
     "output_type": "execute_result"
    }
   ],
   "source": [
    "data = data.drop_duplicates('description')\n",
    "data = data[pd.notnull(data.price)]\n",
    "data = data[data.variety !='Rosé']\n",
    "data = data[data.variety !='Bordeaux-style Red Blend']\n",
    "data = data[data.variety !='Red Blend']\n",
    "data.shape"
   ]
  },
  {
   "cell_type": "code",
   "execution_count": 10,
   "metadata": {},
   "outputs": [
    {
     "data": {
      "text/plain": [
       "136033"
      ]
     },
     "execution_count": 10,
     "metadata": {},
     "output_type": "execute_result"
    }
   ],
   "source": [
    "len(data)"
   ]
  },
  {
   "cell_type": "markdown",
   "metadata": {},
   "source": [
    "**Making wine varieties consistent.  Converting all language variants to English.**"
   ]
  },
  {
   "cell_type": "code",
   "execution_count": 11,
   "metadata": {},
   "outputs": [],
   "source": [
    "data['variety'] = data['variety'].replace(['weissburgunder'], 'chardonnay')\n",
    "data['variety'] = data['variety'].replace(['spatburgunder'], 'pinot noir')\n",
    "data['variety'] = data['variety'].replace(['grauburgunder'], 'pinot gris')\n",
    "data['variety'] = data['variety'].replace(['garnacha'], 'grenache')\n",
    "data['variety'] = data['variety'].replace(['pinot nero'], 'pinot noir')\n",
    "data['variety'] = data['variety'].replace(['alvarinho'], 'albarino')"
   ]
  },
  {
   "cell_type": "markdown",
   "metadata": {},
   "source": [
    "**Looking at the distribution of variety in the dataset.**"
   ]
  },
  {
   "cell_type": "code",
   "execution_count": 12,
   "metadata": {},
   "outputs": [
    {
     "data": {
      "text/plain": [
       "Pinot Noir                       15986\n",
       "Chardonnay                       14795\n",
       "Cabernet Sauvignon               13124\n",
       "Sauvignon Blanc                   6555\n",
       "Riesling                          6277\n",
       "Syrah                             5740\n",
       "Merlot                            4687\n",
       "Zinfandel                         3796\n",
       "Malbec                            3353\n",
       "Sangiovese                        3196\n",
       "White Blend                       2858\n",
       "Nebbiolo                          2520\n",
       "Portuguese Red                    2517\n",
       "Tempranillo                       2469\n",
       "Sparkling Blend                   2441\n",
       "Rhône-style Red Blend             1791\n",
       "Pinot Gris                        1654\n",
       "Shiraz                            1650\n",
       "Cabernet Franc                    1603\n",
       "Champagne Blend                   1576\n",
       "Viognier                          1395\n",
       "Pinot Grigio                      1375\n",
       "Grüner Veltliner                  1265\n",
       "Gewürztraminer                    1177\n",
       "Portuguese White                  1082\n",
       "Petite Sirah                      1002\n",
       "Corvina, Rondinella, Molinara      984\n",
       "Gamay                              829\n",
       "Port                               826\n",
       "Sangiovese Grosso                  814\n",
       "                                 ...  \n",
       "St. Vincent                          1\n",
       "Viognier-Valdiguié                   1\n",
       "Tamianka                             1\n",
       "Ruen                                 1\n",
       "Tai                                  1\n",
       "Albanello                            1\n",
       "Kinali Yapincak                      1\n",
       "Ramisco                              1\n",
       "Barbera-Nebbiolo                     1\n",
       "Catalanesca                          1\n",
       "Karasakiz                            1\n",
       "Tinta Cao                            1\n",
       "Portuguiser                          1\n",
       "Francisa                             1\n",
       "Pinela                               1\n",
       "Misket                               1\n",
       "Carnelian                            1\n",
       "Aidani                               1\n",
       "Pinot Gris-Gewürztraminer            1\n",
       "Verdil                               1\n",
       "Bombino Nero                         1\n",
       "Morava                               1\n",
       "Maria Gomes-Bical                    1\n",
       "Otskhanuri Sapere                    1\n",
       "Biancale                             1\n",
       "Moristel                             1\n",
       "Premsal                              1\n",
       "Sauvignonasse                        1\n",
       "Malagouzia-Chardonnay                1\n",
       "Tsolikouri                           1\n",
       "Name: variety, Length: 742, dtype: int64"
      ]
     },
     "execution_count": 12,
     "metadata": {},
     "output_type": "execute_result"
    }
   ],
   "source": [
    "data['variety'].value_counts()"
   ]
  },
  {
   "cell_type": "code",
   "execution_count": 13,
   "metadata": {},
   "outputs": [
    {
     "data": {
      "text/plain": [
       "743"
      ]
     },
     "execution_count": 13,
     "metadata": {},
     "output_type": "execute_result"
    }
   ],
   "source": [
    "len(data.variety.unique())"
   ]
  },
  {
   "cell_type": "code",
   "execution_count": 14,
   "metadata": {},
   "outputs": [
    {
     "data": {
      "image/png": "[encoded data removed]",
      "text/plain": [
       "<Figure size 1440x504 with 1 Axes>"
      ]
     },
     "metadata": {
      "needs_background": "light"
     },
     "output_type": "display_data"
    }
   ],
   "source": [
    "data = data.groupby('variety').filter(lambda x: len(x) >200)\n",
    "list = data.variety.value_counts().index.tolist()\n",
    "fig4, ax4 = plt.subplots(figsize = (20,7))\n",
    "sns.countplot(x='variety', data=data, order = list, ax=ax4)\n",
    "plt.xticks(rotation = 90)\n",
    "plt.show()"
   ]
  },
  {
   "cell_type": "markdown",
   "metadata": {},
   "source": [
    "**The plan is to predict the wine variety based on description.  After diving deeper into the varieties, we find that there are 746 unique values.  It will be extremely difficult to train a classifier to predict all of those.  Because of this I will have to simplify the amount of varieties.  Going forward I plan on only using the varieties that have more than 3000 instances (or the top ten) to give the model a more realistic chance of predicting the correct label.**"
   ]
  },
  {
   "cell_type": "code",
   "execution_count": 15,
   "metadata": {},
   "outputs": [],
   "source": [
    "data = data.groupby('variety').filter(lambda x: len(x) > 3000)"
   ]
  },
  {
   "cell_type": "code",
   "execution_count": 16,
   "metadata": {},
   "outputs": [
    {
     "data": {
      "text/plain": [
       "77509"
      ]
     },
     "execution_count": 16,
     "metadata": {},
     "output_type": "execute_result"
    }
   ],
   "source": [
    "len(data)"
   ]
  },
  {
   "cell_type": "markdown",
   "metadata": {},
   "source": [
    "# Machine Learning Models"
   ]
  },
  {
   "cell_type": "markdown",
   "metadata": {},
   "source": [
    "* Logistic Regression\n",
    "* K-Means Clustering\n",
    "* Random Forest"
   ]
  },
  {
   "cell_type": "markdown",
   "metadata": {},
   "source": [
    "# Logistic Regression:"
   ]
  },
  {
   "cell_type": "markdown",
   "metadata": {},
   "source": [
    "* First step is to drop the unneeded features (columns), and reduce the dimensionality of our data to perform a logistic regression.  We will only be using description to predict the variety of wine. \n",
    "<br> \n",
    "* The accuracy score was suprisingly high after the initial test.  The model predicted the correct variety of wine based on description with 80% accuracy.  After some thinking and a deep dive into the data, I realized that the description actually has the variety of wine in it a lot of times.  This takes away from the purpose of the model, so before training I must remove these indicator words and re-run the model updating the TfidfVectorizer() function with our stop_words.  The description column also has to be refined.  Right now our model is using the full feature space with all stop words, indicators, and punctuation.  Ideally these three types of tokens should be removed.  This will reduce dimensionality further and allow the model to give extra weight to more important tokens."
   ]
  },
  {
   "cell_type": "markdown",
   "metadata": {},
   "source": [
    "### Price:\n",
    "**Looking at average price for each wine variety to see if it would be a viable feature to add.**"
   ]
  },
  {
   "cell_type": "code",
   "execution_count": 17,
   "metadata": {},
   "outputs": [],
   "source": [
    "price_df = pd.DataFrame(data.groupby(['variety'])['price'].agg(lambda x: x.unique().mean()))\n",
    "price_df = price_df.reset_index()\n",
    "price_df = price_df.sort_values(by=['price'], ascending=False)"
   ]
  },
  {
   "cell_type": "code",
   "execution_count": 18,
   "metadata": {},
   "outputs": [
    {
     "data": {
      "image/png": "[encoded data removed]",
      "text/plain": [
       "<Figure size 1008x288 with 1 Axes>"
      ]
     },
     "metadata": {
      "needs_background": "light"
     },
     "output_type": "display_data"
    }
   ],
   "source": [
    "plt.figure(figsize=(14,4))\n",
    "sns.barplot(x='variety',y='price',data=price_df, alpha=0.8)\n",
    "plt.xticks(fontsize=10)\n",
    "plt.yticks(fontsize=10)\n",
    "plt.title('Mean wine price according to Variety',fontweight=\"bold\", size=18)\n",
    "plt.ylabel('Average Price', fontsize = 15, fontweight=\"bold\")\n",
    "plt.xlabel('Variety', fontsize = 15, fontweight=\"bold\")\n",
    "plt.xticks(rotation = 90)\n",
    "plt.show()"
   ]
  },
  {
   "cell_type": "markdown",
   "metadata": {},
   "source": [
    "**After Looking at the distribution I decided to add this feature to my first logistic regression. \n",
    "<br>\n",
    "<br>\n",
    "With this feature added we only increased the accuracy of our model by 1%.  Therefore it was determined to have no significance in determining variety, and was removed from the model.**"
   ]
  },
  {
   "cell_type": "markdown",
   "metadata": {},
   "source": [
    "### Polishing the Descriptions (Reducing Dimensionality)"
   ]
  },
  {
   "cell_type": "markdown",
   "metadata": {},
   "source": [
    "#### Removing indicator words"
   ]
  },
  {
   "cell_type": "code",
   "execution_count": 19,
   "metadata": {},
   "outputs": [
    {
     "data": {
      "text/plain": [
       "['Cabernet Sauvignon',\n",
       " 'Chardonnay',\n",
       " 'Malbec',\n",
       " 'Merlot',\n",
       " 'Pinot Noir',\n",
       " 'Riesling',\n",
       " 'Sangiovese',\n",
       " 'Sauvignon Blanc',\n",
       " 'Syrah',\n",
       " 'Zinfandel']"
      ]
     },
     "execution_count": 19,
     "metadata": {},
     "output_type": "execute_result"
    }
   ],
   "source": [
    "wines = data.variety.unique().tolist()\n",
    "wines.sort()\n",
    "wines"
   ]
  },
  {
   "cell_type": "markdown",
   "metadata": {},
   "source": [
    "#### Splitting each indicator and removing capitalization\n",
    "* Initializing as a set becuase set elements are unique and duplicates are not allowed.\n",
    "* This set will be added to the list of stop_words to remove from the description."
   ]
  },
  {
   "cell_type": "code",
   "execution_count": 20,
   "metadata": {},
   "outputs": [
    {
     "data": {
      "text/plain": [
       "['blanc',\n",
       " 'cabernet',\n",
       " 'chardonnay',\n",
       " 'malbec',\n",
       " 'merlot',\n",
       " 'noir',\n",
       " 'pinot',\n",
       " 'riesling',\n",
       " 'sangiovese',\n",
       " 'sauvignon',\n",
       " 'syrah',\n",
       " 'zinfandel']"
      ]
     },
     "execution_count": 20,
     "metadata": {},
     "output_type": "execute_result"
    }
   ],
   "source": [
    "words = set() \n",
    "for x in data.variety:\n",
    "    x = x.lower()\n",
    "    x = x.split()\n",
    "    for word in x:\n",
    "        words.add(word)\n",
    "\n",
    "indicators = sorted(words)\n",
    "indicators"
   ]
  },
  {
   "cell_type": "markdown",
   "metadata": {},
   "source": [
    "#### Stop_words and punctuation\n",
    "* First we create a list of punctuations to later remove.\n",
    "* We also import a list of english stopwords (from nltk.corups) to ignore.\n",
    "* Lastly, we update our stop_words variable (ignore), with the punctuation, english stop words, and indicators."
   ]
  },
  {
   "cell_type": "code",
   "execution_count": 21,
   "metadata": {},
   "outputs": [],
   "source": [
    "punctuation = ['.', ',', '\"', \"'\", '?', '!', ':', ';', '(', ')', '[', ']', '{', '}', 'cab',\"%\"]\n",
    "ignore = set(stopwords.words('english'))\n",
    "ignore.update(indicators)\n",
    "ignore.update(punctuation)"
   ]
  },
  {
   "cell_type": "markdown",
   "metadata": {},
   "source": [
    "### Training the Model"
   ]
  },
  {
   "cell_type": "code",
   "execution_count": 22,
   "metadata": {},
   "outputs": [],
   "source": [
    "feature = data.description\n",
    "labels = data.variety"
   ]
  },
  {
   "cell_type": "code",
   "execution_count": 23,
   "metadata": {},
   "outputs": [
    {
     "name": "stdout",
     "output_type": "stream",
     "text": [
      "(62007,) (15502,) (62007,) (15502,)\n"
     ]
    }
   ],
   "source": [
    "X_train, X_test, Y_train, Y_test = train_test_split(feature, labels,test_size=0.2, random_state=1)\n",
    "print(X_train.shape, X_test.shape, Y_train.shape, Y_test.shape)"
   ]
  },
  {
   "cell_type": "markdown",
   "metadata": {},
   "source": [
    "**Using the TF-IDF Vectorizer:**\n",
    "<br>\n",
    "This unique vectorizer has some advantages over the simple count vectorizer.  It increases the value proportionally to count, and offsets the frequency of the word in the corpus as a whole.  This helps us with frequent words that may not hold as much weight for our predictive model."
   ]
  },
  {
   "cell_type": "code",
   "execution_count": 24,
   "metadata": {},
   "outputs": [],
   "source": [
    "tfidf_vec = TfidfVectorizer(stop_words=ignore)\n",
    "X_train = tfidf_vec.fit_transform(X_train.values)\n",
    "X_test = tfidf_vec.transform(X_test.values)"
   ]
  },
  {
   "cell_type": "code",
   "execution_count": 25,
   "metadata": {},
   "outputs": [],
   "source": [
    "# Reference: https://www.kaggle.com/carkar/classifying-wine-type-by-review\n",
    "dic = {}\n",
    "for wine in wines:\n",
    "    lgr = linear_model.LogisticRegression()\n",
    "    y = Y_train == wine\n",
    "    lgr.fit(X_train, y)\n",
    "    dic[wine] = lgr\n",
    "\n",
    "testing_probs = pd.DataFrame(columns = wines)\n",
    "training_probs = pd.DataFrame(columns = wines)"
   ]
  },
  {
   "cell_type": "markdown",
   "metadata": {},
   "source": [
    "**Analyzing the Accuracy**"
   ]
  },
  {
   "cell_type": "code",
   "execution_count": 26,
   "metadata": {},
   "outputs": [
    {
     "name": "stdout",
     "output_type": "stream",
     "text": [
      "Training accuracy: 77.13161417259342 %\n",
      "Testing accuracy: 71.77783511804928 %\n",
      "Cross Validation Score: [0.70389899 0.70700082 0.70608729]\n"
     ]
    },
    {
     "data": {
      "text/html": [
       "<div>\n",
       "<style scoped>\n",
       "    .dataframe tbody tr th:only-of-type {\n",
       "        vertical-align: middle;\n",
       "    }\n",
       "\n",
       "    .dataframe tbody tr th {\n",
       "        vertical-align: top;\n",
       "    }\n",
       "\n",
       "    .dataframe thead th {\n",
       "        text-align: right;\n",
       "    }\n",
       "</style>\n",
       "<table border=\"1\" class=\"dataframe\">\n",
       "  <thead>\n",
       "    <tr style=\"text-align: right;\">\n",
       "      <th></th>\n",
       "      <th>Actual</th>\n",
       "      <th>Predicted</th>\n",
       "    </tr>\n",
       "  </thead>\n",
       "  <tbody>\n",
       "    <tr>\n",
       "      <th>0</th>\n",
       "      <td>Pinot Noir</td>\n",
       "      <td>Pinot Noir</td>\n",
       "    </tr>\n",
       "    <tr>\n",
       "      <th>1</th>\n",
       "      <td>Cabernet Sauvignon</td>\n",
       "      <td>Pinot Noir</td>\n",
       "    </tr>\n",
       "    <tr>\n",
       "      <th>2</th>\n",
       "      <td>Chardonnay</td>\n",
       "      <td>Chardonnay</td>\n",
       "    </tr>\n",
       "    <tr>\n",
       "      <th>3</th>\n",
       "      <td>Pinot Noir</td>\n",
       "      <td>Pinot Noir</td>\n",
       "    </tr>\n",
       "    <tr>\n",
       "      <th>4</th>\n",
       "      <td>Cabernet Sauvignon</td>\n",
       "      <td>Cabernet Sauvignon</td>\n",
       "    </tr>\n",
       "    <tr>\n",
       "      <th>5</th>\n",
       "      <td>Chardonnay</td>\n",
       "      <td>Chardonnay</td>\n",
       "    </tr>\n",
       "    <tr>\n",
       "      <th>6</th>\n",
       "      <td>Chardonnay</td>\n",
       "      <td>Chardonnay</td>\n",
       "    </tr>\n",
       "    <tr>\n",
       "      <th>7</th>\n",
       "      <td>Syrah</td>\n",
       "      <td>Syrah</td>\n",
       "    </tr>\n",
       "    <tr>\n",
       "      <th>8</th>\n",
       "      <td>Chardonnay</td>\n",
       "      <td>Chardonnay</td>\n",
       "    </tr>\n",
       "    <tr>\n",
       "      <th>9</th>\n",
       "      <td>Sauvignon Blanc</td>\n",
       "      <td>Pinot Noir</td>\n",
       "    </tr>\n",
       "  </tbody>\n",
       "</table>\n",
       "</div>"
      ],
      "text/plain": [
       "               Actual           Predicted\n",
       "0          Pinot Noir          Pinot Noir\n",
       "1  Cabernet Sauvignon          Pinot Noir\n",
       "2          Chardonnay          Chardonnay\n",
       "3          Pinot Noir          Pinot Noir\n",
       "4  Cabernet Sauvignon  Cabernet Sauvignon\n",
       "5          Chardonnay          Chardonnay\n",
       "6          Chardonnay          Chardonnay\n",
       "7               Syrah               Syrah\n",
       "8          Chardonnay          Chardonnay\n",
       "9     Sauvignon Blanc          Pinot Noir"
      ]
     },
     "execution_count": 26,
     "metadata": {},
     "output_type": "execute_result"
    }
   ],
   "source": [
    "# Reference: https://www.kaggle.com/carkar/classifying-wine-type-by-review\n",
    "for wine in wines:\n",
    "    testing_probs[wine] = dic[wine].predict_proba(X_test)[:,1]\n",
    "    training_probs[wine] = dic[wine].predict_proba(X_train)[:,1]\n",
    "    \n",
    "predicted_wine_test = testing_probs.idxmax(axis=1)\n",
    "predicted_wine_train = training_probs.idxmax(axis=1)\n",
    "\n",
    "comparison = pd.DataFrame({'Actual':Y_test.values, 'Predicted':predicted_wine_test.values})   \n",
    "\n",
    "score = cross_val_score(lgr, X_train,Y_train, scoring= 'accuracy')\n",
    "\n",
    "print(\"Training accuracy:\",accuracy_score(Y_train, predicted_wine_train)*100,\"%\")\n",
    "print('Testing accuracy:',accuracy_score(Y_test, predicted_wine_test)*100,\"%\")\n",
    "print('Cross Validation Score:',score)\n",
    "\n",
    "comparison.head(10)"
   ]
  },
  {
   "cell_type": "markdown",
   "metadata": {},
   "source": [
    "**After removing all the stopwords, punctuation, and indicators our accuracy realistically dropped from 80% to 72%.  There could be room for more refinement.  Although, 72% is still a really good accuracy score for our model.**"
   ]
  },
  {
   "cell_type": "markdown",
   "metadata": {},
   "source": [
    "#### Analyzing the Confusion Matrix"
   ]
  },
  {
   "cell_type": "code",
   "execution_count": 27,
   "metadata": {},
   "outputs": [
    {
     "data": {
      "text/html": [
       "<div>\n",
       "<style scoped>\n",
       "    .dataframe tbody tr th:only-of-type {\n",
       "        vertical-align: middle;\n",
       "    }\n",
       "\n",
       "    .dataframe tbody tr th {\n",
       "        vertical-align: top;\n",
       "    }\n",
       "\n",
       "    .dataframe thead th {\n",
       "        text-align: right;\n",
       "    }\n",
       "</style>\n",
       "<table border=\"1\" class=\"dataframe\">\n",
       "  <thead>\n",
       "    <tr style=\"text-align: right;\">\n",
       "      <th></th>\n",
       "      <th>Cabernet Sauvignon</th>\n",
       "      <th>Chardonnay</th>\n",
       "      <th>Malbec</th>\n",
       "      <th>Merlot</th>\n",
       "      <th>Pinot Noir</th>\n",
       "      <th>Riesling</th>\n",
       "      <th>Sangiovese</th>\n",
       "      <th>Sauvignon Blanc</th>\n",
       "      <th>Syrah</th>\n",
       "      <th>Zinfandel</th>\n",
       "    </tr>\n",
       "  </thead>\n",
       "  <tbody>\n",
       "    <tr>\n",
       "      <th>Cabernet Sauvignon</th>\n",
       "      <td>2043</td>\n",
       "      <td>25</td>\n",
       "      <td>90</td>\n",
       "      <td>67</td>\n",
       "      <td>315</td>\n",
       "      <td>2</td>\n",
       "      <td>22</td>\n",
       "      <td>6</td>\n",
       "      <td>103</td>\n",
       "      <td>33</td>\n",
       "    </tr>\n",
       "    <tr>\n",
       "      <th>Chardonnay</th>\n",
       "      <td>6</td>\n",
       "      <td>2675</td>\n",
       "      <td>0</td>\n",
       "      <td>0</td>\n",
       "      <td>46</td>\n",
       "      <td>89</td>\n",
       "      <td>2</td>\n",
       "      <td>104</td>\n",
       "      <td>3</td>\n",
       "      <td>1</td>\n",
       "    </tr>\n",
       "    <tr>\n",
       "      <th>Malbec</th>\n",
       "      <td>201</td>\n",
       "      <td>14</td>\n",
       "      <td>254</td>\n",
       "      <td>14</td>\n",
       "      <td>127</td>\n",
       "      <td>2</td>\n",
       "      <td>2</td>\n",
       "      <td>3</td>\n",
       "      <td>47</td>\n",
       "      <td>5</td>\n",
       "    </tr>\n",
       "    <tr>\n",
       "      <th>Merlot</th>\n",
       "      <td>409</td>\n",
       "      <td>16</td>\n",
       "      <td>34</td>\n",
       "      <td>108</td>\n",
       "      <td>221</td>\n",
       "      <td>3</td>\n",
       "      <td>26</td>\n",
       "      <td>6</td>\n",
       "      <td>58</td>\n",
       "      <td>11</td>\n",
       "    </tr>\n",
       "    <tr>\n",
       "      <th>Pinot Noir</th>\n",
       "      <td>164</td>\n",
       "      <td>45</td>\n",
       "      <td>29</td>\n",
       "      <td>25</td>\n",
       "      <td>2811</td>\n",
       "      <td>15</td>\n",
       "      <td>5</td>\n",
       "      <td>13</td>\n",
       "      <td>40</td>\n",
       "      <td>14</td>\n",
       "    </tr>\n",
       "    <tr>\n",
       "      <th>Riesling</th>\n",
       "      <td>0</td>\n",
       "      <td>174</td>\n",
       "      <td>0</td>\n",
       "      <td>0</td>\n",
       "      <td>20</td>\n",
       "      <td>1053</td>\n",
       "      <td>0</td>\n",
       "      <td>46</td>\n",
       "      <td>0</td>\n",
       "      <td>0</td>\n",
       "    </tr>\n",
       "    <tr>\n",
       "      <th>Sangiovese</th>\n",
       "      <td>88</td>\n",
       "      <td>10</td>\n",
       "      <td>6</td>\n",
       "      <td>6</td>\n",
       "      <td>126</td>\n",
       "      <td>1</td>\n",
       "      <td>378</td>\n",
       "      <td>0</td>\n",
       "      <td>22</td>\n",
       "      <td>6</td>\n",
       "    </tr>\n",
       "    <tr>\n",
       "      <th>Sauvignon Blanc</th>\n",
       "      <td>8</td>\n",
       "      <td>348</td>\n",
       "      <td>0</td>\n",
       "      <td>0</td>\n",
       "      <td>12</td>\n",
       "      <td>71</td>\n",
       "      <td>1</td>\n",
       "      <td>927</td>\n",
       "      <td>1</td>\n",
       "      <td>1</td>\n",
       "    </tr>\n",
       "    <tr>\n",
       "      <th>Syrah</th>\n",
       "      <td>299</td>\n",
       "      <td>16</td>\n",
       "      <td>49</td>\n",
       "      <td>20</td>\n",
       "      <td>214</td>\n",
       "      <td>2</td>\n",
       "      <td>14</td>\n",
       "      <td>5</td>\n",
       "      <td>469</td>\n",
       "      <td>28</td>\n",
       "    </tr>\n",
       "    <tr>\n",
       "      <th>Zinfandel</th>\n",
       "      <td>115</td>\n",
       "      <td>13</td>\n",
       "      <td>2</td>\n",
       "      <td>9</td>\n",
       "      <td>119</td>\n",
       "      <td>0</td>\n",
       "      <td>3</td>\n",
       "      <td>0</td>\n",
       "      <td>57</td>\n",
       "      <td>409</td>\n",
       "    </tr>\n",
       "  </tbody>\n",
       "</table>\n",
       "</div>"
      ],
      "text/plain": [
       "                    Cabernet Sauvignon  Chardonnay  Malbec  Merlot  \\\n",
       "Cabernet Sauvignon                2043          25      90      67   \n",
       "Chardonnay                           6        2675       0       0   \n",
       "Malbec                             201          14     254      14   \n",
       "Merlot                             409          16      34     108   \n",
       "Pinot Noir                         164          45      29      25   \n",
       "Riesling                             0         174       0       0   \n",
       "Sangiovese                          88          10       6       6   \n",
       "Sauvignon Blanc                      8         348       0       0   \n",
       "Syrah                              299          16      49      20   \n",
       "Zinfandel                          115          13       2       9   \n",
       "\n",
       "                    Pinot Noir  Riesling  Sangiovese  Sauvignon Blanc  Syrah  \\\n",
       "Cabernet Sauvignon         315         2          22                6    103   \n",
       "Chardonnay                  46        89           2              104      3   \n",
       "Malbec                     127         2           2                3     47   \n",
       "Merlot                     221         3          26                6     58   \n",
       "Pinot Noir                2811        15           5               13     40   \n",
       "Riesling                    20      1053           0               46      0   \n",
       "Sangiovese                 126         1         378                0     22   \n",
       "Sauvignon Blanc             12        71           1              927      1   \n",
       "Syrah                      214         2          14                5    469   \n",
       "Zinfandel                  119         0           3                0     57   \n",
       "\n",
       "                    Zinfandel  \n",
       "Cabernet Sauvignon         33  \n",
       "Chardonnay                  1  \n",
       "Malbec                      5  \n",
       "Merlot                     11  \n",
       "Pinot Noir                 14  \n",
       "Riesling                    0  \n",
       "Sangiovese                  6  \n",
       "Sauvignon Blanc             1  \n",
       "Syrah                      28  \n",
       "Zinfandel                 409  "
      ]
     },
     "execution_count": 27,
     "metadata": {},
     "output_type": "execute_result"
    }
   ],
   "source": [
    "label_names = ['Cabernet Sauvignon',\n",
    " 'Chardonnay',\n",
    " 'Malbec',\n",
    " 'Merlot',\n",
    " 'Pinot Noir',\n",
    " 'Riesling',\n",
    " 'Sangiovese',\n",
    " 'Sauvignon Blanc',\n",
    " 'Syrah',\n",
    " 'Zinfandel']\n",
    "\n",
    "confusion_matrix = confusion_matrix(Y_test, predicted_wine_test)\n",
    "\n",
    "# Reference: https://gist.github.com/nickynicolson/202fe765c99af49acb20ea9f77b6255e\n",
    "\n",
    "def cm2df(cm, labels):\n",
    "    df = pd.DataFrame()\n",
    "    # rows\n",
    "    for i, row_label in enumerate(labels):\n",
    "        rowdata={}\n",
    "        # columns\n",
    "        for j, col_label in enumerate(labels): \n",
    "            rowdata[col_label]=cm[i,j]\n",
    "        df = df.append(pd.DataFrame.from_dict({row_label:rowdata}, orient='index'))\n",
    "    return df[labels]\n",
    "\n",
    "cm2df(confusion_matrix, label_names)"
   ]
  },
  {
   "cell_type": "markdown",
   "metadata": {},
   "source": [
    "**We have the most data on Chardonnay, 14795 instances in the original dataframe.  This makes it easier for our classifier to learn and make more accurate descriptions with the extra information.  As we can see below our logistic regression has a 91% chance of predicting Chardonnay correctly.**"
   ]
  },
  {
   "cell_type": "code",
   "execution_count": 28,
   "metadata": {},
   "outputs": [
    {
     "name": "stdout",
     "output_type": "stream",
     "text": [
      "Our classifier predicts \"Chardonnay\" with 91.42173615857826 % accuracy.\n"
     ]
    }
   ],
   "source": [
    "chardonnay = confusion_matrix[1, 1]\n",
    "sum_chardonnay = confusion_matrix[1, :].sum()\n",
    "print('Our classifier predicts \"Chardonnay\" with ' + str(float(chardonnay) / float(sum_chardonnay)*100),\"% \" + 'accuracy.')"
   ]
  },
  {
   "cell_type": "markdown",
   "metadata": {},
   "source": [
    "**However, this model is atrociously bad at predicting Merlot and Malbec.**"
   ]
  },
  {
   "cell_type": "code",
   "execution_count": 29,
   "metadata": {},
   "outputs": [
    {
     "name": "stdout",
     "output_type": "stream",
     "text": [
      "Our classifier predicts \"Merlot\" with 12.10762331838565 % accuracy.\n",
      "Our classifier predicts \"Malbec\" with 37.96711509715994 % accuracy.\n",
      "Our classifier confuses \"Merlot\" with \"Cabernet Sauvignon\" 45.85201793721973 % of the time.\n",
      "Our classifier confuses \"Malbec\" with \"Cabernet Sauvignon\" 22.533632286995516 % of the time.\n"
     ]
    }
   ],
   "source": [
    "Malbec = confusion_matrix[2, 2]\n",
    "sum_Malbec = confusion_matrix[2, :].sum()\n",
    "Merlot = confusion_matrix[3, 3]\n",
    "cs_mer = confusion_matrix[3,0]\n",
    "cs_mal = confusion_matrix[2,0]\n",
    "sum_Merlot = confusion_matrix[3, :].sum()\n",
    "print('Our classifier predicts \"Merlot\" with ' + str(float(Merlot) / float(sum_Merlot)*100),\"% \" + 'accuracy.')\n",
    "print('Our classifier predicts \"Malbec\" with ' + str(float(Malbec) / float(sum_Malbec)*100),\"% \" + 'accuracy.')\n",
    "print('Our classifier confuses \"Merlot\" with \"Cabernet Sauvignon\" ' + str(float(cs_mer) / float(sum_Merlot)*100),\"% \" + 'of the time.')\n",
    "print('Our classifier confuses \"Malbec\" with \"Cabernet Sauvignon\" ' + str(float(cs_mal) / float(sum_Merlot)*100),\"% \" + 'of the time.')"
   ]
  },
  {
   "cell_type": "markdown",
   "metadata": {},
   "source": [
    "**Merlot is being classified as Cabernet Sauvignon 46% of the time, while Malbec does the same 23% of the time.  That is significant.  This makes sense however if we look at the description clusters in the model below.  These two wine varieties often get confused with Cabernet Sauvignon becuase they all have the majority of their descriptions lying in clusters 1 and 5.** "
   ]
  },
  {
   "cell_type": "markdown",
   "metadata": {},
   "source": [
    "# K-Means Clustering:"
   ]
  },
  {
   "cell_type": "markdown",
   "metadata": {},
   "source": [
    "### Training the Model"
   ]
  },
  {
   "cell_type": "code",
   "execution_count": 30,
   "metadata": {},
   "outputs": [],
   "source": [
    "X = tfidf_vec.fit_transform(data.description.values)\n",
    "words = tfidf_vec.get_feature_names()"
   ]
  },
  {
   "cell_type": "code",
   "execution_count": 31,
   "metadata": {},
   "outputs": [
    {
     "data": {
      "text/plain": [
       "KMeans(algorithm='auto', copy_x=True, init='k-means++', max_iter=300,\n",
       "    n_clusters=10, n_init=10, n_jobs=-1, precompute_distances='auto',\n",
       "    random_state=None, tol=0.0001, verbose=0)"
      ]
     },
     "execution_count": 31,
     "metadata": {},
     "output_type": "execute_result"
    }
   ],
   "source": [
    "kmeans = KMeans(n_clusters = 10, n_jobs = -1)\n",
    "kmeans.fit(X)"
   ]
  },
  {
   "cell_type": "markdown",
   "metadata": {},
   "source": [
    "**We initialzed 10 clusters for our algorithm, one for every wine variety in our downsized dataset.  For each of these clusters we are looking at the 10 most common words of their respective descriptions.**"
   ]
  },
  {
   "cell_type": "code",
   "execution_count": 32,
   "metadata": {
    "scrolled": true
   },
   "outputs": [
    {
     "name": "stdout",
     "output_type": "stream",
     "text": [
      "0 : bodied, full, medium, wine, flavors, fruit, cherry, finish, texture, aromas\n",
      "1 : fruit, wine, flavors, cherry, finish, oak, tannins, vineyard, red, aromas\n",
      "2 : berry, aromas, plum, finish, herbal, flavors, palate, feels, red, notes\n",
      "3 : buttered, pineapple, toast, vanilla, flavors, oak, sweet, acidity, pineapples, rich\n",
      "4 : cherries, blackberries, currants, raspberries, dry, flavors, tannins, cola, rich, wine\n",
      "5 : wine, fruits, drink, acidity, ripe, character, wood, texture, fruit, rich\n",
      "6 : apple, pear, green, flavors, palate, lemon, finish, aromas, citrus, wine\n",
      "7 : citrus, lemon, lime, flavors, palate, finish, peach, acidity, grapefruit, dry\n",
      "8 : cherry, flavors, blackberry, dry, tannins, currant, sweet, drink, wine, soft\n",
      "9 : black, cherry, palate, aromas, tannins, nose, fruit, plum, dark, spice\n"
     ]
    }
   ],
   "source": [
    "# Reference: https://www.kaggle.com/kitakoj18/exploring-wine-descriptions-with-nlp-and-kmeans?scriptVersionId=2224953\n",
    "common_words = kmeans.cluster_centers_.argsort()[:,-1:-11:-1]\n",
    "for num, centroid in enumerate(common_words):\n",
    "    print(str(num) + ' : ' + ', '.join(words[word] for word in centroid))"
   ]
  },
  {
   "cell_type": "markdown",
   "metadata": {},
   "source": [
    "**Next we are going to visualize our clusters compared to the wine varieties.  The heatmap below helps us understand where our varieties are being grouped with respect to our clusters.**"
   ]
  },
  {
   "cell_type": "code",
   "execution_count": 33,
   "metadata": {},
   "outputs": [],
   "source": [
    "data['cluster'] = kmeans.labels_"
   ]
  },
  {
   "cell_type": "code",
   "execution_count": 34,
   "metadata": {},
   "outputs": [
    {
     "data": {
      "image/png": "[encoded data removed]",
      "text/plain": [
       "<Figure size 2160x1080 with 2 Axes>"
      ]
     },
     "metadata": {
      "needs_background": "light"
     },
     "output_type": "display_data"
    }
   ],
   "source": [
    "# Reference: https://www.kaggle.com/kitakoj18/exploring-wine-descriptions-with-nlp-and-kmeans?scriptVersionId=2224953\n",
    "clusters = data.groupby(['cluster', 'variety']).size()\n",
    "fig2, ax2 = plt.subplots(figsize = (30, 15))\n",
    "sns.heatmap(clusters.unstack(level = 'variety'), ax = ax2, cmap = 'Reds')\n",
    "\n",
    "ax2.set_xlabel('Variety', fontdict = {'weight': 'bold', 'size': 28})\n",
    "ax2.set_ylabel('Cluster', fontdict = {'weight': 'bold', 'size': 28})\n",
    "for label in ax2.get_xticklabels():\n",
    "    label.set_size(15)\n",
    "    label.set_weight(\"bold\")\n",
    "for label in ax2.get_yticklabels():\n",
    "    label.set_size(18)\n",
    "    label.set_weight(\"bold\")"
   ]
  },
  {
   "cell_type": "markdown",
   "metadata": {},
   "source": [
    "# Making sense of our clustering method"
   ]
  },
  {
   "cell_type": "markdown",
   "metadata": {},
   "source": [
    "* We now have a rough idea of how the these 10 wines are being described in terms of our model.  I would now like to take the top clusters for each variety and make sense of their respective buzz words.  I will eliminate common words such as: wine, nose, palate, ect. and use our model to create our own artificial sommelier!\n",
    "* I will compare our buzzwords to what is on winefolly.com"
   ]
  },
  {
   "cell_type": "markdown",
   "metadata": {},
   "source": [
    "# Cabernet Sauvignon\n",
    "\n",
    "**Top Clusters:** 1, 8\n",
    "<br>\n",
    "<br>\n",
    "**Buzz words:**\n",
    "<br>\n",
    "1 : fruit, wine, flavors, **cherry**, finish, oak, tannins, vineyard, red, aromas\n",
    "  <br> 8 : **cherry**, flavors, **blackberry**, **dry**, tannins, **currant**, **sweet**, drink, wine, **soft**\n",
    "  \n",
    "  \n",
    "**Artificial Sommelier:**\n",
    "* **Primary Flavors:** Cherry, Blackberry, Currant\n",
    "* **Taste Profile:** Sweet, Soft, Dry\n",
    "\n",
    "\n",
    "## <font color=\"maroon\">Wine Folly:</font>\n",
    "The world’s most popular red wine is a natural cross between Cabernet Franc and Sauvignon Blanc that originated around Bordeaux, France. Wines are concentrated and age worthy.\n",
    "\n",
    "https://winefolly.com/cabernet-sauvignon/\n",
    "\n",
    "\n",
    "* **Primary Flavors:** Black Cherry, Black Currant, Cedar, Baking Spices, Graphite\n",
    "<br>\n",
    "* **Taste Profile:** Full Body, Dry, Medium-High Tannin, Medium Acidity, 13.5–15% ABV"
   ]
  },
  {
   "cell_type": "markdown",
   "metadata": {},
   "source": [
    "# Chardonnay\n",
    "\n",
    "**Top Clusters:** 3, 6 \n",
    "<br>\n",
    "<br>\n",
    "**Buzz words:**\n",
    "<br>\n",
    "3 : **buttered**, **pineapple**, **toast**, **vanilla**, flavors, oak, **sweet**, acidity, **pineapples**, **rich**\n",
    "  <br> 6 : **apple**, **pear**, green, flavors, palate, **lemon**, finish, aromas, **citrus**, wine\n",
    "  \n",
    "\n",
    "**Artificial Sommelier:**\n",
    "* **Primary Flavors:** Apple, Pear, Citrus (Lemon), Buttered, Pineapple, Vanilla, Toast\n",
    "* **Taste Profile:** Sweet, Rich \n",
    "\n",
    "\n",
    "## <font color=\"maroon\">Wine Folly:</font>\n",
    "One of the world's most popular grapes, Chardonnay is made in a wide range of styles from lean, sparkling Blanc de Blancs to rich, creamy white wines aged in oak.\n",
    "\n",
    "https://winefolly.com/chardonnay/\n",
    "\n",
    "\n",
    "* **Primary Flavors:** Yellow Apple, Starfruit, Pineapple , Vanilla, Butter\n",
    "<br>\n",
    "* **Taste Profile:** Medium Body, Dry, Low/None Tannin, Medium Acidity, 13.5–15% ABV"
   ]
  },
  {
   "cell_type": "markdown",
   "metadata": {},
   "source": [
    "# Malbec\n",
    "\n",
    "**Top Cluster:** 2\n",
    "<br>\n",
    "<br>\n",
    "**Buzz words:**\n",
    "<br>\n",
    "2 : **berry**, aromas, **plum**, finish, **herbal**, flavors, palate, feels, red, notes\n",
    "\n",
    "**Artificial Sommelier:**\n",
    "* **Primary Flavors:** Berry, Plum, Herbal\n",
    "* **Taste Profile:** None \n",
    "\n",
    "\n",
    "## <font color=\"maroon\">Wine Folly:</font>\n",
    "Argentina's most important variety came by way of France, where it's commonly called Côt (sounds like \"coat\"). Wines are loved for their lusty fruit flavors and smooth chocolatey finish.\n",
    "\n",
    "https://winefolly.com/malbec/\n",
    "\n",
    "\n",
    "* **Primary Flavors:** Red Plum, Blackberry, Vanilla, Tobacco, Cocoa\n",
    "<br>\n",
    "* **Taste Profile:** Full Body, Dry, Medium Tannin, Medium-Low Acidity, 13.5–15% ABV"
   ]
  },
  {
   "cell_type": "markdown",
   "metadata": {},
   "source": [
    "# Merlot\n",
    "\n",
    "**Top Clusters:** 1, 8 \n",
    "\n",
    "**Buzz words:**\n",
    "1 : fruit, wine, flavors, **cherry**, finish, oak, tannins, vineyard, red, aromas \n",
    "8 : **cherry**, flavors, **blackberry**, dry, tannins, **currant**, **sweet**, drink, wine, **soft**\n",
    "\n",
    "**Artificial Sommelier:**\n",
    "\n",
    "**Primary Flavors:** Cherry, Blackberry, Currant\n",
    "**Taste Profile:** Sweet, Soft, Dry\n",
    "\n",
    "## <font color=\"maroon\">Wine Folly:</font>\n",
    "Merlot is loved for it's boisterous black cherry flavors, supple tannins, and chocolatey finish. On the high end, it's often mistaken with Cabernet Sauvignon and commonly blended with it.\n",
    "\n",
    "https://winefolly.com/merlot/\n",
    "\n",
    "\n",
    "* **Primary Flavors:** Cherry, Plum, Chocolate, Bay Leaf, Vanilla\n",
    "<br>\n",
    "* **Taste Profile:** Medium-Full Body, Bone-Dry, Medium-High Tannin, Medium Acidity, 13.5–15% ABV"
   ]
  },
  {
   "cell_type": "markdown",
   "metadata": {},
   "source": [
    "# Pinot Noir\n",
    "\n",
    "**Top Clusters:** 1, 8, 9\n",
    "<br>\n",
    "<br>\n",
    "**Buzz words:**\n",
    "<br>\n",
    "1 : fruit, wine, flavors, **cherry**, finish, oak, tannins, vineyard, red, aromas\n",
    "  <br> 8 : **cherry**, flavors, **blackberry**, **dry**, tannins, **currant**, **sweet**, drink, wine, **soft**\n",
    "  <br>\n",
    "  9 : black, **cherry**, palate, aromas, tannins, nose, fruit, **plum**, **dark**, **spice** \n",
    "  \n",
    "  \n",
    "**Artificial Sommelier:**\n",
    "* **Primary Flavors:** Cherry, Blackberry, Currant, Plum, Spice\n",
    "* **Taste Profile:** Sweet, Soft, Dry, Dark\n",
    "  \n",
    "\n",
    "## <font color=\"maroon\">Wine Folly:</font>\n",
    "Pinot Noir is the world's most popular light-bodied red wine. It's loved for its red fruit, flower, and spice aromas that are accentuated by a long, smooth finish.\n",
    "\n",
    "https://winefolly.com/pinot-noir/\n",
    "\n",
    "\n",
    "* **Primary Flavors:** Cherry, Rasberry, Mushroom, Vanilla, Hibiscus\n",
    "<br>\n",
    "* **Taste Profile:** Medium Body, Dry, Medium Low Tannin, Medium-High Acidity, 11.5–13.5% ABV"
   ]
  },
  {
   "cell_type": "markdown",
   "metadata": {},
   "source": [
    "# Riesling\n",
    "\n",
    "**Top Clusters:** 6, 7\n",
    "<br>\n",
    "<br>\n",
    "**Buzz words:**\n",
    "<br>\n",
    "6 : **apple**, **pear**, green, flavors, palate, **lemon**, finish, aromas, **citrus**, wine\n",
    "<br>\n",
    "7 : **citrus**, **lemon**, **lime**, flavors, palate, finish, **peach**, **acidity**, **grapefruit**, **dry**\n",
    "  \n",
    "  \n",
    "**Artificial Sommelier:**\n",
    "* **Primary Flavors:** Apple, Citrus (Lemon, Lime, Grapefruit), Peach, Pear\n",
    "* **Taste Profile:** Acidity, Dry\n",
    "\n",
    "\n",
    "## <font color=\"maroon\">Wine Folly:</font>\n",
    "An aromatic white variety that can produce white wines ranging in style from bone-dry to very sweet. Germany is the world's most important producer of Riesling.\n",
    "\n",
    "https://winefolly.com/riesling/\n",
    "\n",
    "\n",
    "* **Primary Flavors:** Lime, Green Apple, Beeswax, Jasmine, Petrol\n",
    "<br>\n",
    "* **Taste Profile:** Light Body, Off-Dry, Low/None Tannin, High Acidity, Under 10% ABV"
   ]
  },
  {
   "cell_type": "markdown",
   "metadata": {},
   "source": [
    "# Sangiovese\n",
    "\n",
    "**Top Cluster:** 9\n",
    "<br>\n",
    "<br>\n",
    "**Buzz words:**\n",
    "<br>\n",
    "9 : black, **cherry**, palate, aromas, tannins, nose, fruit, **plum**, **dark**, **spice**\n",
    "  \n",
    "  \n",
    "**Artificial Sommelier:**\n",
    "* **Primary Flavors:** Cherry, Plum, Spice\n",
    "* **Taste Profile:** Dark\n",
    "\n",
    "\n",
    "## <font color=\"maroon\">Wine Folly:</font>\n",
    "Italy's most planted wine variety and the pride of the Tuscan regional wine, Chianti. Sangiovese is a sensitive grape that takes on different stylistic expressions based on where it grows.\n",
    "\n",
    "https://winefolly.com/sangiovese/\n",
    "\n",
    "\n",
    "* **Primary Flavors:** Cherry, Roasted Tomato, Oregano, Espresso, Sweet Balsamic\n",
    "<br>\n",
    "* **Taste Profile:** Medium-Full Body, Bone-Dry, Medium-High Tannin, Medium-High Acidity, 13.5–15% ABV"
   ]
  },
  {
   "cell_type": "markdown",
   "metadata": {},
   "source": [
    "# Sauvignon Blanc\n",
    "\n",
    "**Top Cluster:** 7\n",
    "<br>\n",
    "<br>\n",
    "**Buzz words:**\n",
    "<br>\n",
    "7 : **citrus**, **lemon**, **lime**, flavors, palate, finish, **peach**, **acidity**, **grapefruit**, **dry**\n",
    "  \n",
    "**Artificial Sommelier:**\n",
    "* **Primary Flavors:** Apple, Citrus (Lemon, Lime, Grapefruit), Peach\n",
    "* **Taste Profile:** Acidity, Dry\n",
    "<br>\n",
    "<br>\n",
    "\n",
    "## <font color=\"maroon\">Wine Folly:</font>\n",
    "A popular and unmistakable white that's loved for its \"green\" herbal flavors and sky high acidity. Sauvignon Blanc grows nearly everywhere and is produced in a variety of methods resulting in a wide that range from lean to bountiful.\n",
    "\n",
    "https://winefolly.com/sauvignon-blanc/\n",
    "\n",
    "\n",
    "* **Primary Flavors:** Gooseberry, Honeydew Melon, Grapefruit, White Peach, Passion Fruit\n",
    "<br>\n",
    "* **Taste Profile:** Medium-Light Body, Dry, Low/None Tannin, High Acidity, 11.5–13.5% ABV"
   ]
  },
  {
   "cell_type": "markdown",
   "metadata": {},
   "source": [
    "# Syrah\n",
    "\n",
    "**Top Clusters:** 1, 4, 9\n",
    "<br>\n",
    "<br>\n",
    "**Buzz words:**\n",
    "<br>\n",
    "1 : fruit, wine, flavors, **cherry**, finish, oak, tannins, vineyard, red, aromas\n",
    "<br>\n",
    "4 : **cherries**, **blackberries**, **currants**, **raspberries**, **dry**, flavors, tannins, **cola**, **rich**, wine\n",
    "<br>\n",
    "9 : black, **cherry**, palate, aromas, tannins, nose, fruit, **plum**, **dark**, **spice**\n",
    "  \n",
    "  \n",
    "**Artificial Sommelier:**\n",
    "* **Primary Flavors:** Berries(Cherries, Blackberries, Raspberries), Plum, Currant, Spice, Cola\n",
    "* **Taste Profile:** Dark, Rich, Dry\n",
    "\n",
    "\n",
    "## <font color=\"maroon\">Wine Folly:</font>\n",
    "A rich, powerful, and sometimes meaty red wine that originated in the Rhône Valley of France. Syrah is the most planted grape of Australia where they call it Shiraz.\n",
    "\n",
    "https://winefolly.com/syrah/\n",
    "\n",
    "\n",
    "* **Primary Flavors:** Blueberry, Black Plum, Milk Chocolate, Tobacco, Green Peppercorn\n",
    "<br>\n",
    "* **Taste Profile:** Full Body, Dry, Medium-High Tannin, Medium Acidity, 13.5–15% ABV"
   ]
  },
  {
   "cell_type": "markdown",
   "metadata": {},
   "source": [
    "# Zinfandel\n",
    "\n",
    "**Top Clusters:** 1, 4, 8 \n",
    "<br>\n",
    "<br>\n",
    "**Buzz words:**\n",
    "<br>\n",
    "1 : fruit, wine, flavors, **cherry**, finish, oak, tannins, vineyard, red, aromas\n",
    "<br>\n",
    "4 : **cherries**, **blackberries**, **currants**, **raspberries**, **dry**, flavors, tannins, **cola**, **rich**, wine\n",
    "<br> 8 : **cherry**, flavors, **blackberry**, **dry**, tannins, **currant**, **sweet**, drink, wine, **soft**\n",
    "  \n",
    "  \n",
    "**Artificial Sommelier:**\n",
    "* **Primary Flavors:** Cherry, Berries(Blackberries, Cherries, Raspberies), Currant, Cola\n",
    "* **Taste Profile:** Dry, Sweet, Soft, Rich\n",
    "\n",
    "\n",
    "\n",
    "## <font color=\"maroon\">Wine Folly:</font>\n",
    "A fruit-forward-yet-bold red that's loved for its red fruit flavors and smoky exotic spice notes. Originally from Croatia and related to top Croatian grape, Plavic Mali.\n",
    "\n",
    "https://winefolly.com/search/zinfandel\n",
    "\n",
    "\n",
    "* **Primary Flavors:** Blackberry, Strawberry, Peach Preserves, Cinnamon, Sweet Tobacco\n",
    "<br>\n",
    "* **Taste Profile:** Medium-Full Body, Dry, Medium-High Tannin, Medium-Low Acidity, Over 15% ABV"
   ]
  },
  {
   "cell_type": "markdown",
   "metadata": {},
   "source": [
    "# Random Forest:"
   ]
  },
  {
   "cell_type": "markdown",
   "metadata": {},
   "source": [
    "#### Tuning the hyperparameters (n_estimators, max_depth, and min_samples_leaf:"
   ]
  },
  {
   "cell_type": "markdown",
   "metadata": {},
   "source": [
    "| `n_estimators` | Test accuracy | \n",
    "|----------------|---------------|\n",
    "| $10$           |        .47       |\n",
    "|$50$          |        **.50**       |\n",
    "| $100$          |        .48       |\n",
    "| $300$          |        .49       |"
   ]
  },
  {
   "cell_type": "markdown",
   "metadata": {},
   "source": [
    "| `max_depth` | `min_samples_leaf` | Training accuracy | Test accuracy | \n",
    "|-------------|--------------------|-------------------|---------------|\n",
    "| $5$         |   $1$              |          .39         |      .39         |\n",
    "| $5$         |   $5$              |          .39         |        .39       |\n",
    "| $5$         |   $10$             |          .38         |        .38       |\n",
    "| $5$         |   $15$             |         .40          |        .40       |\n",
    "| $5$         |   $50$             |          .40         |         .39      |\n",
    "| $15$        |   $1$              |           .53        |          .51     |\n",
    "| $15$        |   $5$              |           .50        |        .50       |\n",
    "| $15$        |   $10$             |          .49         |         .48      |\n",
    "| $15$        |   $15$             |            .49       |          .48     |\n",
    "| $15$        |   $50$             |         .48          |          .48     |\n",
    "| $50$       |   $1$              |          .84         |          .63     |\n",
    "| $50$       |   $5$              |         **.63**          |          **.61**     |\n",
    "| $50$       |   $10$             |         .63          |          .61     |\n",
    "| $50$       |   $15$             |          .59         |          .58     |\n",
    "| $50$       |   $50$             |          .54         |         .54      |\n"
   ]
  },
  {
   "cell_type": "markdown",
   "metadata": {},
   "source": [
    "**Optimal Hyperparameters:**\n",
    "* n_estimators = 50\n",
    "* max_depth = 50\n",
    "* min_samples_leaf = 5\n",
    "    "
   ]
  },
  {
   "cell_type": "markdown",
   "metadata": {},
   "source": [
    "### Training the Optimal Model"
   ]
  },
  {
   "cell_type": "code",
   "execution_count": 35,
   "metadata": {},
   "outputs": [
    {
     "data": {
      "text/plain": [
       "RandomForestClassifier(bootstrap=True, class_weight=None, criterion='gini',\n",
       "            max_depth=50, max_features='auto', max_leaf_nodes=None,\n",
       "            min_impurity_decrease=0.0, min_impurity_split=None,\n",
       "            min_samples_leaf=5, min_samples_split=2,\n",
       "            min_weight_fraction_leaf=0.0, n_estimators=50, n_jobs=1,\n",
       "            oob_score=False, random_state=None, verbose=0,\n",
       "            warm_start=False)"
      ]
     },
     "execution_count": 35,
     "metadata": {},
     "output_type": "execute_result"
    }
   ],
   "source": [
    "rf = RandomForestClassifier(max_depth=50, min_samples_leaf=5, n_estimators=50)\n",
    "rf.fit(X_train,Y_train)"
   ]
  },
  {
   "cell_type": "code",
   "execution_count": 36,
   "metadata": {},
   "outputs": [
    {
     "name": "stdout",
     "output_type": "stream",
     "text": [
      "Training accuracy: 0.637089\n",
      "Test accuracy: 0.614050\n"
     ]
    }
   ],
   "source": [
    "print(\"Training accuracy: %0.6f\" % accuracy_score(Y_train, rf.predict(X_train)))\n",
    "print(\"Test accuracy: %0.6f\" % accuracy_score(Y_test, rf.predict(X_test)))"
   ]
  },
  {
   "cell_type": "markdown",
   "metadata": {},
   "source": [
    "**This classifier doesn't quite have the accuracy that the logistic regression has, so most of the analysis was done on the initial classifier.**"
   ]
  },
  {
   "cell_type": "markdown",
   "metadata": {},
   "source": [
    "## Next Steps:"
   ]
  },
  {
   "cell_type": "markdown",
   "metadata": {},
   "source": [
    "* It would be interesting to further tune the model to get better accuracy scores by playing around with the hyperparameters and introducing more feature variables.\n",
    "* I would also like to experiment with removing varieties that get mixed up often.\n",
    "* I want to see how hard it would be to only give weight to the buzz words in the clustering method, taking out words like nose, wine, palate ect. to get more accurate generalizations of how the wines taste.\n",
    "* I could also look at the most common 15 or 20 words instead of 10 to see if I'm potentially missing any important buzz words that just barely didn't make the cut."
   ]
  }
 ],
 "metadata": {
  "kernelspec": {
   "display_name": "Python 3",
   "language": "python",
   "name": "python3"
  },
  "language_info": {
   "codemirror_mode": {
    "name": "ipython",
    "version": 3
   },
   "file_extension": ".py",
   "mimetype": "text/x-python",
   "name": "python",
   "nbconvert_exporter": "python",
   "pygments_lexer": "ipython3",
   "version": "3.7.2"
  }
 },
 "nbformat": 4,
 "nbformat_minor": 2
}
